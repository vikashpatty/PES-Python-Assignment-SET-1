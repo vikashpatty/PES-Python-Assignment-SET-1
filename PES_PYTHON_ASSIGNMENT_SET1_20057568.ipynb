{
 "cells": [
  {
   "cell_type": "markdown",
   "metadata": {},
   "source": [
    "1. Write a program to Add, Subtract, Multiply, and Divide 2 numbers"
   ]
  },
  {
   "cell_type": "code",
   "execution_count": 10,
   "metadata": {},
   "outputs": [
    {
     "name": "stdout",
     "output_type": "stream",
     "text": [
      "Write 1st Input:5\n",
      "Write 2nd Input:6\n",
      "Sum : 11\n",
      "Multiple : 30\n",
      "Division:  1.2\n"
     ]
    }
   ],
   "source": [
    "x=int(input('Write 1st Input:'))\n",
    "y=int(input('Write 2nd Input:'))\n",
    "print('Sum :',x+y)\n",
    "print('Multiple :',(x*y))\n",
    "if x>y:\n",
    "    print('Division: ',x/y)\n",
    "else:\n",
    "    print('Division: ',y/x)"
   ]
  },
  {
   "cell_type": "markdown",
   "metadata": {},
   "source": [
    "2. Write a program to find the biggest of 3 numbers "
   ]
  },
  {
   "cell_type": "code",
   "execution_count": 17,
   "metadata": {},
   "outputs": [
    {
     "name": "stdout",
     "output_type": "stream",
     "text": [
      "Write 1st Input:1\n",
      "Write 2nd Input:1\n",
      "Write 3rd Input:1\n",
      "1 is the biggest of 3 number\n"
     ]
    }
   ],
   "source": [
    "x=int(input('Write 1st Input:'))\n",
    "y=int(input('Write 2nd Input:'))\n",
    "z=int(input('Write 3rd Input:'))\n",
    "if x>=y and x>=z:\n",
    "    print(x ,'is the biggest of 3 number')\n",
    "elif y>=x  and y>=z:\n",
    "    print(y,'is the biggest of 3 number')\n",
    "else:\n",
    "    print(z,'is the biggest of 3 number')"
   ]
  },
  {
   "cell_type": "markdown",
   "metadata": {},
   "source": [
    "3. Write a program to find given number is odd or Even"
   ]
  },
  {
   "cell_type": "code",
   "execution_count": 18,
   "metadata": {},
   "outputs": [
    {
     "name": "stdout",
     "output_type": "stream",
     "text": [
      "Write 1st Input:3\n",
      "3 is odd number\n"
     ]
    }
   ],
   "source": [
    "x=int(input('Write 1st Input:'))\n",
    "if x%2==0:\n",
    "    print(x,'is Even number')\n",
    "else:\n",
    "    print(x,'is odd number')"
   ]
  },
  {
   "cell_type": "markdown",
   "metadata": {},
   "source": [
    "4.Write a program to find the number is Prime or not."
   ]
  },
  {
   "cell_type": "code",
   "execution_count": 31,
   "metadata": {},
   "outputs": [
    {
     "name": "stdout",
     "output_type": "stream",
     "text": [
      "Write the number to find if it is Prime or not11\n",
      "11 is a prime number\n"
     ]
    }
   ],
   "source": [
    "x=int(input('Write the number to find if it is Prime or not'))\n",
    "if x > 1:\n",
    "   for i in range(2,x):\n",
    "    if (x % i) == 0:\n",
    "        print(x,\"is not a prime number\")\n",
    "        print(i,\"times\",x//i,\"is\",x)\n",
    "        break\n",
    "    else:\n",
    "        print(x,\"is a prime number\")\n",
    "        break\n",
    "else:\n",
    "    print(x,\"is not a prime number\")"
   ]
  },
  {
   "cell_type": "markdown",
   "metadata": {},
   "source": [
    "5. Write a program to receive 5 command line arguments and print each argument separately.\n",
    "\n",
    "Example: >> python test.py arg1 arg2 arg3 arg4 arg5\n",
    "\n",
    "a) From the above statement your program should receive arguments and print them each of them.\n",
    "\n",
    "b) Find the biggest of three numbers, where three numbers are passed as command line arguments.\n"
   ]
  },
  {
   "cell_type": "code",
   "execution_count": 19,
   "metadata": {},
   "outputs": [
    {
     "name": "stdout",
     "output_type": "stream",
     "text": [
      "Total arguments passed: 3\n",
      "\n",
      "Name of Python script: C:\\Users\\imvik\\Anaconda3\\lib\\site-packages\\ipykernel_launcher.py\n",
      "\n",
      "Arguments passed:\n",
      "-f\n",
      "C:\\Users\\imvik\\AppData\\Roaming\\jupyter\\runtime\\kernel-20046e1a-422a-4aa1-8206-97b15ffe71db.json\n",
      "Maxiumum Number of the arg passed  C:\\Users\\imvik\\AppData\\Roaming\\jupyter\\runtime\\kernel-20046e1a-422a-4aa1-8206-97b15ffe71db.json\n"
     ]
    }
   ],
   "source": [
    "#please copy the code and create a file.py then pass the argument in cmd as i'm using jupyter it won't show result in here\n",
    "\n",
    "import sys \n",
    "\n",
    "n = len(sys.argv)\n",
    "z=[]\n",
    "print(\"Total arguments passed:\", n) \n",
    "\n",
    "print(\"\\nName of Python script:\", sys.argv[0]) \n",
    "\n",
    "print(\"\\nArguments passed:\") \n",
    "for i in range(1, n): \n",
    "    print(sys.argv[i])\n",
    "    z.append(sys.argv[i])\n",
    "print('Maxiumum Number of the arg passed ' ,max(z))\t\n"
   ]
  },
  {
   "cell_type": "markdown",
   "metadata": {},
   "source": [
    "6. Write a program to read string and print each character separately.\n",
    "\n",
    "a) Slice the string using slice operator [:] slice the portion the strings to create a sub strings.\n",
    "\n",
    "b) Repeat the string 100 times using repeat operator *\n",
    "\n",
    "c) Read string 2 and concatenate with other string using + operator.\n"
   ]
  },
  {
   "cell_type": "code",
   "execution_count": 3,
   "metadata": {},
   "outputs": [
    {
     "name": "stdout",
     "output_type": "stream",
     "text": [
      "Write the input in stringhi\n",
      "hi\n",
      "['hi']\n",
      "hihihihihihihihihihihihihihihihihihihihihihihihihihihihihihihihihihihihihihihihihihihihihihihihihihihihihihihihihihihihihihihihihihihihihihihihihihihihihihihihihihihihihihihihihihihihihihihihihihihihi\n",
      "Write the second stringvikash\n",
      "hivikash\n"
     ]
    }
   ],
   "source": [
    "x=str(input('Write the input in string'))\n",
    "print(x[:])\n",
    "print(x[:].split())\n",
    "print(x*100)\n",
    "y=str(input('Write the second string'))\n",
    "print(x+y)"
   ]
  },
  {
   "cell_type": "markdown",
   "metadata": {},
   "source": [
    "7.Create a list with at least 10 elements having integer values in it\n",
    "\n",
    "a) Print all elements\n",
    "\n",
    "b) Perform slicing operations\n",
    "\n",
    "c) Perform repetition with * operator\n",
    "\n",
    "d) Perform concatenation with other list.\n"
   ]
  },
  {
   "cell_type": "code",
   "execution_count": 17,
   "metadata": {},
   "outputs": [
    {
     "name": "stdout",
     "output_type": "stream",
     "text": [
      "[ 1  2  3  4  5  6  7  8  9 10]\n",
      "[2 3 4]\n",
      "[ 2  4  6  8 10 12 14 16 18 20]\n",
      "[12 13 14 15 16 17 18 19 20 21]\n",
      "[13 15 17 19 21 23 25 27 29 31]\n"
     ]
    }
   ],
   "source": [
    "import numpy\n",
    "x=numpy.arange(1,11)\n",
    "print(x)\n",
    "print(x[1:4])\n",
    "print(x*2)\n",
    "y=numpy.arange(12,22)\n",
    "print(y)\n",
    "print(x+y)"
   ]
  },
  {
   "cell_type": "markdown",
   "metadata": {},
   "source": [
    "8.Repeat program 7 with Tuples (Take example from Tutorial)"
   ]
  },
  {
   "cell_type": "code",
   "execution_count": 20,
   "metadata": {},
   "outputs": [
    {
     "name": "stdout",
     "output_type": "stream",
     "text": [
      "(10, 20, 30, 40, 50)\n",
      "(20, 30, 40)\n",
      "(10, 20, 30, 40, 50, 10, 20, 30, 40, 50)\n",
      "(10, 20, 30, 40, 50, 11, 22, 33, 44, 55)\n"
     ]
    }
   ],
   "source": [
    " \n",
    "b=(10,20,30,40,50) #taken from example shown in tutorial\n",
    "print(b)\n",
    "print(b[1:4])\n",
    "print(b*2)\n",
    "c=(11,22,33,44,55)\n",
    "print(b+c)"
   ]
  },
  {
   "cell_type": "markdown",
   "metadata": {},
   "source": [
    "9.Write program to Add, Subtract, Multiply, Divide 2 Complex numbers."
   ]
  },
  {
   "cell_type": "code",
   "execution_count": 22,
   "metadata": {},
   "outputs": [
    {
     "name": "stdout",
     "output_type": "stream",
     "text": [
      "Write 1st Complex number:1+3j\n",
      "Write 2nd complex number:2+2j\n",
      "Sum : (3+5j)\n",
      "Multiple : (-4+8j)\n",
      "Division:  (1+0.5j)\n"
     ]
    }
   ],
   "source": [
    "x=complex(input('Write 1st Complex number:'))\n",
    "y=complex(input('Write 2nd complex number:'))\n",
    "print('Sum :',x+y)\n",
    "print('Multiple :',(x*y))\n",
    "print('Division: ',x/y)"
   ]
  },
  {
   "cell_type": "markdown",
   "metadata": {},
   "source": [
    "10.Using assignment operators, perform following operations\n",
    "\n",
    "Addition, Substation, Multiplication, Division, Modulus, Exponent and Floor division operations\n"
   ]
  },
  {
   "cell_type": "code",
   "execution_count": 23,
   "metadata": {},
   "outputs": [
    {
     "name": "stdout",
     "output_type": "stream",
     "text": [
      "Write 1st Input:2\n",
      "Adding using assignement operator: 3\n",
      "Substation using assignement operator: 1\n",
      "Multiplication using assignement operator: 2\n",
      "Division using assignement operator: 1.0\n",
      "Modulus using assignement operator: 1.0\n",
      "Exponent using assignement operator: 1.0\n",
      "Floor division using assignement operator: 0.0\n"
     ]
    }
   ],
   "source": [
    "x=int(input('Write 1st Input:'))\n",
    "y=1\n",
    "y+=x\n",
    "print('Adding using assignement operator:',y)\n",
    "y-=x\n",
    "print('Substation using assignement operator:',y)\n",
    "y*=x\n",
    "print('Multiplication using assignement operator:',y)\n",
    "y/=x\n",
    "print('Division using assignement operator:',y)\n",
    "y%=x\n",
    "print('Modulus using assignement operator:',y)\n",
    "y**=x\n",
    "print('Exponent using assignement operator:',y)\n",
    "y//=x\n",
    "print('Floor division using assignement operator:',y)"
   ]
  },
  {
   "cell_type": "markdown",
   "metadata": {},
   "source": [
    "11.Read 2 numbers to variable a and b and perform all bitwise operations on that numbers."
   ]
  },
  {
   "cell_type": "code",
   "execution_count": 27,
   "metadata": {},
   "outputs": [
    {
     "name": "stdout",
     "output_type": "stream",
     "text": [
      "Write 1st Input:10\n",
      "Write 2 st Input:11\n",
      "Bitwise AND operator: 10\n",
      "Bitwise OR operator: 11\n",
      "Bitwise NOT operator: -12\n",
      "Bitwise XOR operator: 1\n",
      "Bitwise Right Shift operator: 0\n",
      "Bitwise Left Shift operator: 20480\n"
     ]
    }
   ],
   "source": [
    "x=int(input('Write 1st Input:'))\n",
    "y=int(input('Write 2 st Input:'))\n",
    "print('Bitwise AND operator:',x&y)\n",
    "print('Bitwise OR operator:',x|y)\n",
    "print('Bitwise NOT operator:',~y)\n",
    "print('Bitwise XOR operator:',x^y)\n",
    "print('Bitwise Right Shift operator:',x>>y)\n",
    "print('Bitwise Left Shift operator:',x<<y)"
   ]
  },
  {
   "cell_type": "markdown",
   "metadata": {},
   "source": [
    "12.Read 10 numbers from user and find the average of all.\n",
    "\n",
    "a) Use comparison operator to check how many numbers are less than average and print them\n",
    "\n",
    "b) Check how many numbers are more than average.\n",
    "\n",
    "c) How many are equal to average\n"
   ]
  },
  {
   "cell_type": "code",
   "execution_count": 4,
   "metadata": {},
   "outputs": [
    {
     "name": "stdout",
     "output_type": "stream",
     "text": [
      "Enter numbers \n",
      "1\n",
      "Enter numbers \n",
      "1\n",
      "Enter numbers \n",
      "1\n",
      "Enter numbers \n",
      "1\n",
      "Enter numbers \n",
      "1\n",
      "Enter numbers \n",
      "1\n",
      "Enter numbers \n",
      "1\n",
      "Enter numbers \n",
      "1\n",
      "Enter numbers \n",
      "1\n",
      "Enter numbers \n",
      "1\n",
      "less than average\n",
      "greater than average\n",
      "equal to average\n",
      "1\n",
      "1\n",
      "1\n",
      "1\n",
      "1\n",
      "1\n",
      "1\n",
      "1\n",
      "1\n",
      "1\n"
     ]
    }
   ],
   "source": [
    "a=[]\n",
    "t,avg=0,0\n",
    "for i in range(1,11):\n",
    "    a.insert(i-1,int(input(\"Enter numbers \\n\")))\n",
    "    t+=a[i-1]\n",
    "avg=t/len(a)\n",
    "print(\"less than average\")\n",
    "for i in a:\n",
    "    if i<avg:\n",
    "        print(i)\n",
    "print(\"greater than average\")\n",
    "for i in a:\n",
    "    if i>avg:\n",
    "        print(i)\n",
    "print(\"equal to average\")\n",
    "for i in a:\n",
    "    if i==avg:\n",
    "        print(i)"
   ]
  },
  {
   "cell_type": "markdown",
   "metadata": {},
   "source": [
    "13.Write a program to find the biggest of 4 numbers.\n",
    "\n",
    "a) Read 4 numbers from user using Input statement.\n",
    "\n",
    "b) extend the above program to find the biggest of 5 numbers.\n",
    "\n",
    "(PS: Use IF and IF & Else, If and ELIf, and Nested IF)\n"
   ]
  },
  {
   "cell_type": "code",
   "execution_count": 9,
   "metadata": {},
   "outputs": [
    {
     "name": "stdout",
     "output_type": "stream",
     "text": [
      "Enter number1:4\n",
      "Enter number2:5\n",
      "Enter number3:8\n",
      "Enter number4:1\n",
      "Enter number5:0\n",
      "Max is : 8\n"
     ]
    }
   ],
   "source": [
    "a = int(input(\"Enter number1:\"))\n",
    "b = int(input(\"Enter number2:\"))\n",
    "c = int(input(\"Enter number3:\"))\n",
    "d = int(input(\"Enter number4:\"))\n",
    "e = int(input(\"Enter number5:\"))\n",
    "if a > b and a > c and a > d and a > e:\n",
    "    print(\"Max is :\", a)\n",
    "elif b > a and b > c and b > d and b > e:\n",
    "    print(\"Max is :\", b)\n",
    "elif c > a and c > b and c > d and c > e:\n",
    "    print(\"Max is :\", c)\n",
    "elif d > a and d > b and d > c and d > e:\n",
    "    print(\"Max is :\", d)\n",
    "else:\n",
    "    print (\"Max is:\", e)"
   ]
  },
  {
   "cell_type": "markdown",
   "metadata": {},
   "source": [
    "14.Write a program to create two list A & B such that List A contains Employee Id, List B contain Employee name (minimum 10 entries in each list & perform following operation\n",
    "\n",
    "a) Print all names on to screen\n",
    "\n",
    "b) Read the index from the  user and print the corresponding name from both list.\n",
    "\n",
    "c) Print the names from 4th position to 9th position\n",
    "\n",
    "d) Print all names from 3rd position till end of the list\n",
    "\n",
    "e) Repeat list elements by specified number of times (N- times, where N is entered by user)\n",
    "\n",
    "f)  Concatenate two lists and print the output.\n",
    "\n",
    "g) Print element of list A and B side by side.(i.e. List-A First element, List-B First element )\n"
   ]
  },
  {
   "cell_type": "code",
   "execution_count": 11,
   "metadata": {},
   "outputs": [
    {
     "name": "stdout",
     "output_type": "stream",
     "text": [
      "['vikash', 'akash', 'rahul', 'gourav', 'sudi', 'praveen', 'sudhanshu', 'shivam', 'nidhi', 'shital']\n",
      "Enter the index:1\n",
      "02 akash\n",
      "['sudi', 'praveen', 'sudhanshu', 'shivam', 'nidhi']\n",
      "['gourav', 'sudi', 'praveen', 'sudhanshu', 'shivam', 'nidhi', 'shital']\n",
      "Enter number of times you wanna print list:2\n",
      "['01', '02', '03', '04', '05', '06', '07', '08', '09', '10']\n",
      "['01', '02', '03', '04', '05', '06', '07', '08', '09', '10']\n",
      "['01', '02', '03', '04', '05', '06', '07', '08', '09', '10', 'vikash', 'akash', 'rahul', 'gourav', 'sudi', 'praveen', 'sudhanshu', 'shivam', 'nidhi', 'shital']\n",
      "['01', 'vikash', '02', 'akash', '03', 'rahul', '04', 'gourav', '05', 'sudi', '06', 'praveen', '07', 'sudhanshu', '08', 'shivam', '09', 'nidhi', '10', 'shital']\n"
     ]
    }
   ],
   "source": [
    "A = ['01','02','03','04','05','06','07','08','09','10']\n",
    "B = [\"vikash\", \"akash\", \"rahul\", \"gourav\", \"sudi\", \"praveen\", \"sudhanshu\", \"shivam\", \"nidhi\", \"shital\"]\n",
    "\n",
    "\n",
    "print(B)\n",
    "\n",
    "\n",
    "i = int(input(\"Enter the index:\"))\n",
    "print(A[i], B[i])\n",
    "\n",
    "\n",
    "print(B[4:9])\n",
    "\n",
    "\n",
    "print(B[3:])\n",
    "\n",
    "\n",
    "N = int(input(\"Enter number of times you wanna print list:\"))\n",
    "for i in range(0,N):\n",
    "    print(A)\n",
    "\n",
    "\n",
    "C = A + B\n",
    "print(C)\n",
    "\n",
    "\n",
    "D = []\n",
    "for x in range(0,len(A)):\n",
    "    D.append(A[x])\n",
    "    D.append(B[x])\n",
    "print(D)"
   ]
  },
  {
   "cell_type": "markdown",
   "metadata": {},
   "source": [
    "15.Create a list of 5 names and check given name exist in the List.\n",
    "\n",
    "a) Use membership operator (IN) to check the presence of an element.\n",
    "\n",
    "b) Perform above task without using membership operator.\n",
    "\n",
    "c) Print the elements of the list in reverse direction.\n"
   ]
  },
  {
   "cell_type": "code",
   "execution_count": 12,
   "metadata": {},
   "outputs": [
    {
     "name": "stdout",
     "output_type": "stream",
     "text": [
      "vikash  is present in the list\n",
      "akash  is present in the list\n",
      "rahul  is present in the list\n",
      "gourav  is present in the list\n",
      "sudi  is present in the list\n",
      "vikash  is present in the list\n",
      "akash  is present in the list\n",
      "rahul  is present in the list\n",
      "gourav  is present in the list\n",
      "sudi  is present in the list\n",
      "['sudi', 'gourav', 'rahul', 'akash', 'vikash']\n"
     ]
    }
   ],
   "source": [
    "B = [\"vikash\", \"akash\", \"rahul\", \"gourav\", \"sudi\"]\n",
    "\n",
    "for i in B:\n",
    "    if i in B:\n",
    "        print(i,\" is present in the list\")\n",
    "\n",
    "for i in B:\n",
    "    for j in B:\n",
    "        if j==i:\n",
    "            print(j,\" is present in the list\")\n",
    "B.reverse()\n",
    "print(B)"
   ]
  },
  {
   "cell_type": "markdown",
   "metadata": {},
   "source": [
    "16.Write program to perform following:\n",
    "    \n",
    "i) Check whether given number is prime or not.\n",
    "\n",
    "ii) Generate all the prime numbers between 1 to N where N is given number.\n"
   ]
  },
  {
   "cell_type": "code",
   "execution_count": 15,
   "metadata": {},
   "outputs": [
    {
     "name": "stdout",
     "output_type": "stream",
     "text": [
      "Write the number to find if it is Prime or not11\n",
      "11 is a prime number\n",
      "2\n",
      "3\n",
      "5\n",
      "7\n",
      "11\n"
     ]
    }
   ],
   "source": [
    "x=int(input('Write the number to find if it is Prime or not'))\n",
    "if x > 1:\n",
    "   for i in range(2,x):\n",
    "    if (x % i) == 0:\n",
    "        print(x,\"is not a prime number\")\n",
    "        print(i,\"times\",x//i,\"is\",x)\n",
    "        break\n",
    "    else:\n",
    "        print(x,\"is a prime number\")\n",
    "        break\n",
    "else:\n",
    "    print(x,\"is not a prime number\")\n",
    "\n",
    "    \n",
    "for i in range(1,x+1):\n",
    "    if i > 1: \n",
    "       for n in range(2, i): \n",
    "           if (i % n) == 0: \n",
    "               break\n",
    "       else: \n",
    "           print(i)"
   ]
  },
  {
   "cell_type": "markdown",
   "metadata": {},
   "source": [
    "17.Write program to find the biggest and Smallest of N numbers.\n",
    "\n",
    "PS: Use the functions to find biggest and smallest numbers. \n"
   ]
  },
  {
   "cell_type": "code",
   "execution_count": 18,
   "metadata": {},
   "outputs": [
    {
     "name": "stdout",
     "output_type": "stream",
     "text": [
      "Enter the number to create list from 1 to N:8\n",
      "[1, 2, 3, 4, 5, 6, 7, 8]\n",
      "Min of the number: 1\n",
      "Max of the number: 8\n"
     ]
    }
   ],
   "source": [
    "x=int(input('Enter the number to create list from 1 to N:'))\n",
    "N=list(range(1,x+1))\n",
    "print(N)\n",
    "print('Min of the number:',min(N))\n",
    "print('Max of the number:',max(N))"
   ]
  },
  {
   "cell_type": "markdown",
   "metadata": {},
   "source": [
    "18.Using loop structures print numbers from 1 to 100.  and using the same loop print numbers from 100 to 1 (reverse printing)\n",
    "\n",
    "a) By using For loop\n",
    "\n",
    "b) By using while loop\n",
    "\n",
    "c) Let mystring =\"Hello world\"\n",
    "\n",
    "print each character of mystring in to separate line using appropriate loop structure.\n"
   ]
  },
  {
   "cell_type": "code",
   "execution_count": 21,
   "metadata": {},
   "outputs": [
    {
     "name": "stdout",
     "output_type": "stream",
     "text": [
      "1\n",
      "2\n",
      "3\n",
      "4\n",
      "5\n",
      "6\n",
      "7\n",
      "8\n",
      "9\n",
      "10\n",
      "11\n",
      "12\n",
      "13\n",
      "14\n",
      "15\n",
      "16\n",
      "17\n",
      "18\n",
      "19\n",
      "20\n",
      "21\n",
      "22\n",
      "23\n",
      "24\n",
      "25\n",
      "26\n",
      "27\n",
      "28\n",
      "29\n",
      "30\n",
      "31\n",
      "32\n",
      "33\n",
      "34\n",
      "35\n",
      "36\n",
      "37\n",
      "38\n",
      "39\n",
      "40\n",
      "41\n",
      "42\n",
      "43\n",
      "44\n",
      "45\n",
      "46\n",
      "47\n",
      "48\n",
      "49\n",
      "50\n",
      "51\n",
      "52\n",
      "53\n",
      "54\n",
      "55\n",
      "56\n",
      "57\n",
      "58\n",
      "59\n",
      "60\n",
      "61\n",
      "62\n",
      "63\n",
      "64\n",
      "65\n",
      "66\n",
      "67\n",
      "68\n",
      "69\n",
      "70\n",
      "71\n",
      "72\n",
      "73\n",
      "74\n",
      "75\n",
      "76\n",
      "77\n",
      "78\n",
      "79\n",
      "80\n",
      "81\n",
      "82\n",
      "83\n",
      "84\n",
      "85\n",
      "86\n",
      "87\n",
      "88\n",
      "89\n",
      "90\n",
      "91\n",
      "92\n",
      "93\n",
      "94\n",
      "95\n",
      "96\n",
      "97\n",
      "98\n",
      "99\n",
      "100\n",
      "100\n",
      "99\n",
      "98\n",
      "97\n",
      "96\n",
      "95\n",
      "94\n",
      "93\n",
      "92\n",
      "91\n",
      "90\n",
      "89\n",
      "88\n",
      "87\n",
      "86\n",
      "85\n",
      "84\n",
      "83\n",
      "82\n",
      "81\n",
      "80\n",
      "79\n",
      "78\n",
      "77\n",
      "76\n",
      "75\n",
      "74\n",
      "73\n",
      "72\n",
      "71\n",
      "70\n",
      "69\n",
      "68\n",
      "67\n",
      "66\n",
      "65\n",
      "64\n",
      "63\n",
      "62\n",
      "61\n",
      "60\n",
      "59\n",
      "58\n",
      "57\n",
      "56\n",
      "55\n",
      "54\n",
      "53\n",
      "52\n",
      "51\n",
      "50\n",
      "49\n",
      "48\n",
      "47\n",
      "46\n",
      "45\n",
      "44\n",
      "43\n",
      "42\n",
      "41\n",
      "40\n",
      "39\n",
      "38\n",
      "37\n",
      "36\n",
      "35\n",
      "34\n",
      "33\n",
      "32\n",
      "31\n",
      "30\n",
      "29\n",
      "28\n",
      "27\n",
      "26\n",
      "25\n",
      "24\n",
      "23\n",
      "22\n",
      "21\n",
      "20\n",
      "19\n",
      "18\n",
      "17\n",
      "16\n",
      "15\n",
      "14\n",
      "13\n",
      "12\n",
      "11\n",
      "10\n",
      "9\n",
      "8\n",
      "7\n",
      "6\n",
      "5\n",
      "4\n",
      "3\n",
      "2\n",
      "1\n",
      "1\n",
      "2\n",
      "3\n",
      "4\n",
      "5\n",
      "6\n",
      "7\n",
      "8\n",
      "9\n",
      "10\n",
      "11\n",
      "12\n",
      "13\n",
      "14\n",
      "15\n",
      "16\n",
      "17\n",
      "18\n",
      "19\n",
      "20\n",
      "21\n",
      "22\n",
      "23\n",
      "24\n",
      "25\n",
      "26\n",
      "27\n",
      "28\n",
      "29\n",
      "30\n",
      "31\n",
      "32\n",
      "33\n",
      "34\n",
      "35\n",
      "36\n",
      "37\n",
      "38\n",
      "39\n",
      "40\n",
      "41\n",
      "42\n",
      "43\n",
      "44\n",
      "45\n",
      "46\n",
      "47\n",
      "48\n",
      "49\n",
      "50\n",
      "51\n",
      "52\n",
      "53\n",
      "54\n",
      "55\n",
      "56\n",
      "57\n",
      "58\n",
      "59\n",
      "60\n",
      "61\n",
      "62\n",
      "63\n",
      "64\n",
      "65\n",
      "66\n",
      "67\n",
      "68\n",
      "69\n",
      "70\n",
      "71\n",
      "72\n",
      "73\n",
      "74\n",
      "75\n",
      "76\n",
      "77\n",
      "78\n",
      "79\n",
      "80\n",
      "81\n",
      "82\n",
      "83\n",
      "84\n",
      "85\n",
      "86\n",
      "87\n",
      "88\n",
      "89\n",
      "90\n",
      "91\n",
      "92\n",
      "93\n",
      "94\n",
      "95\n",
      "96\n",
      "97\n",
      "98\n",
      "99\n",
      "100\n",
      "100\n",
      "99\n",
      "98\n",
      "97\n",
      "96\n",
      "95\n",
      "94\n",
      "93\n",
      "92\n",
      "91\n",
      "90\n",
      "89\n",
      "88\n",
      "87\n",
      "86\n",
      "85\n",
      "84\n",
      "83\n",
      "82\n",
      "81\n",
      "80\n",
      "79\n",
      "78\n",
      "77\n",
      "76\n",
      "75\n",
      "74\n",
      "73\n",
      "72\n",
      "71\n",
      "70\n",
      "69\n",
      "68\n",
      "67\n",
      "66\n",
      "65\n",
      "64\n",
      "63\n",
      "62\n",
      "61\n",
      "60\n",
      "59\n",
      "58\n",
      "57\n",
      "56\n",
      "55\n",
      "54\n",
      "53\n",
      "52\n",
      "51\n",
      "50\n",
      "49\n",
      "48\n",
      "47\n",
      "46\n",
      "45\n",
      "44\n",
      "43\n",
      "42\n",
      "41\n",
      "40\n",
      "39\n",
      "38\n",
      "37\n",
      "36\n",
      "35\n",
      "34\n",
      "33\n",
      "32\n",
      "31\n",
      "30\n",
      "29\n",
      "28\n",
      "27\n",
      "26\n",
      "25\n",
      "24\n",
      "23\n",
      "22\n",
      "21\n",
      "20\n",
      "19\n",
      "18\n",
      "17\n",
      "16\n",
      "15\n",
      "14\n",
      "13\n",
      "12\n",
      "11\n",
      "10\n",
      "9\n",
      "8\n",
      "7\n",
      "6\n",
      "5\n",
      "4\n",
      "3\n",
      "2\n",
      "1\n",
      "H\n",
      "e\n",
      "l\n",
      "l\n",
      "o\n",
      " \n",
      "w\n",
      "o\n",
      "r\n",
      "l\n",
      "d\n"
     ]
    }
   ],
   "source": [
    "x=0\n",
    "for x in range(1,101):\n",
    "    print(x)\n",
    "    \n",
    "x=0\n",
    "for x in range(100):\n",
    "    print(100-x)\n",
    "    \n",
    "x=1\n",
    "while(x<=100):\n",
    "    print(x)\n",
    "    x += 1\n",
    "    \n",
    "x=0\n",
    "while(x<100):\n",
    "    print(100-x)\n",
    "    x += 1\n",
    "    \n",
    "mystring =\"Hello world\"\n",
    "for i in mystring:\n",
    "    print(i)"
   ]
  },
  {
   "cell_type": "markdown",
   "metadata": {},
   "source": [
    "19.Using loop structures print even numbers between 1 to 100.\n",
    "\n",
    "a) By using For loop, use continue/ break/ pass statement to skip odd numbers.\n",
    "    \n",
    "    i) Break the loop if the value is 50\n",
    "    \n",
    "    ii) Use continue for the values 10,20,30,40,50\n",
    "    \n",
    "b) By using while loop, use continue/ break/ pass statement to skip odd numbers.\n",
    "      \n",
    "      i) Break the loop if the value is 90\n",
    "      \n",
    "      ii) Use continue for the values 60,70,80,90\n"
   ]
  },
  {
   "cell_type": "code",
   "execution_count": null,
   "metadata": {},
   "outputs": [
    {
     "name": "stdout",
     "output_type": "stream",
     "text": [
      "Enter number till where you wanna find even number:100\n",
      "0\n",
      "2\n",
      "4\n",
      "6\n",
      "8\n",
      "10\n",
      "12\n",
      "14\n",
      "16\n",
      "18\n",
      "20\n",
      "22\n",
      "24\n",
      "26\n",
      "28\n",
      "30\n",
      "32\n",
      "34\n",
      "36\n",
      "38\n",
      "40\n",
      "42\n",
      "44\n",
      "46\n",
      "48\n",
      "50\n",
      "52\n",
      "54\n",
      "56\n",
      "58\n",
      "60\n",
      "62\n",
      "64\n",
      "66\n",
      "68\n",
      "70\n",
      "72\n",
      "74\n",
      "76\n",
      "78\n",
      "80\n",
      "82\n",
      "84\n",
      "86\n",
      "88\n",
      "90\n",
      "92\n",
      "94\n",
      "96\n",
      "98\n"
     ]
    }
   ],
   "source": [
    "x=int(input('Enter number till where you wanna find even number:'))\n",
    "y=[10,20,30,40,50]\n",
    "z=[60,70,80,90]\n",
    "\n",
    "for i in range(x):\n",
    "    if(i%2==0):\n",
    "        print(i)\n",
    "\n",
    "i=0\n",
    "for i in range(x+1):\n",
    "    if(i%2!=0):\n",
    "        continue\n",
    "\n",
    "    if(i==50):\n",
    "        break\n",
    "\n",
    "    if i in y:\n",
    "        continue\n",
    "\n",
    "i=0\n",
    "while(i<=x):\n",
    "    if(i%2!=0):\n",
    "        continue\n",
    "\n",
    "    if(i==90):\n",
    "        break\n",
    "\n",
    "    if i in z:\n",
    "        continue\n",
    "\n",
    "    i += 1\n",
    "    "
   ]
  },
  {
   "cell_type": "markdown",
   "metadata": {},
   "source": [
    "20.Write a program to generate a Fibonacci series of numbers.\n",
    "\n",
    "Starting numbers are 0 and 1,  new number in the series is generated by adding previous two numbers in the series.\n",
    "\n",
    "Example : 0, 1, 1, 2, 3, 5, 8,13,21,.....\n",
    "\n",
    "   a) Number of elements printed in the series should be N numbers, Where N is any +ve integer.\n",
    "   \n",
    "   b) Generate the series until the element in the series is less than Max number.\n"
   ]
  },
  {
   "cell_type": "code",
   "execution_count": 1,
   "metadata": {},
   "outputs": [
    {
     "name": "stdout",
     "output_type": "stream",
     "text": [
      "Input for number needed: 10\n",
      "0\n",
      "1\n",
      "1\n",
      "2\n",
      "3\n",
      "5\n",
      "8\n",
      "13\n",
      "21\n",
      "34\n",
      "Enter the number until series is printed: 12\n",
      "0\n",
      "1\n",
      "1\n",
      "2\n",
      "3\n",
      "5\n",
      "8\n"
     ]
    }
   ],
   "source": [
    "a=0\n",
    "b=1\n",
    "x=int(input(\"Input for number needed: \"))\n",
    "\n",
    "L = [a,b]\n",
    "\n",
    "while(x-2):\n",
    "    c=a+b\n",
    "    a=b\n",
    "    b=c\n",
    "    L.append(c)\n",
    "    x=x-1\n",
    "\n",
    "\n",
    "for i in L:\n",
    "    print(i)\n",
    "\n",
    "y=int(input(\"Enter the number until series is printed: \"))\n",
    "a=0\n",
    "b=1\n",
    "\n",
    "L = [a,b]\n",
    "\n",
    "while(y-2):\n",
    "    c=a+b\n",
    "    if(c>y):\n",
    "        break\n",
    "    a=b\n",
    "    b=c\n",
    "    L.append(c)\n",
    "    y=y-1\n",
    "\n",
    "for i in L:\n",
    "    print(i)"
   ]
  },
  {
   "cell_type": "code",
   "execution_count": null,
   "metadata": {},
   "outputs": [],
   "source": []
  }
 ],
 "metadata": {
  "kernelspec": {
   "display_name": "Python 3",
   "language": "python",
   "name": "python3"
  },
  "language_info": {
   "codemirror_mode": {
    "name": "ipython",
    "version": 3
   },
   "file_extension": ".py",
   "mimetype": "text/x-python",
   "name": "python",
   "nbconvert_exporter": "python",
   "pygments_lexer": "ipython3",
   "version": "3.7.1"
  }
 },
 "nbformat": 4,
 "nbformat_minor": 2
}
